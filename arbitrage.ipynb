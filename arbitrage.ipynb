#This model designs an operating strategy for a grid-connected battery 
#with a given set of operational constraints, under the assumption of known future prices
#https://the-turing-way.netlify.app/communication/binder/zero-to-binder.html

#Load packages
import pulp
import os
import numpy as np
import pandas as pd
import matplotlib as mpl
import matplotlib.pyplot as plt
import time
%matplotlib inline
